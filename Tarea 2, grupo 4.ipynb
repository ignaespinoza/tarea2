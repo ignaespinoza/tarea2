{
 "cells": [
  {
   "cell_type": "markdown",
   "id": "a7307ad7",
   "metadata": {},
   "source": [
    "# Pregunta 1\n",
    "La interpolación polinómica es una técnica matemática cuyo objetivo es poder describir conjuntos de puntos mediante funciones.\n",
    "\n"
   ]
  },
  {
   "cell_type": "code",
   "execution_count": null,
   "id": "fbaed343",
   "metadata": {},
   "outputs": [],
   "source": []
  },
  {
   "cell_type": "markdown",
   "id": "7a274aa5",
   "metadata": {},
   "source": [
    "# Pregunta 2\n"
   ]
  },
  {
   "cell_type": "code",
   "execution_count": null,
   "id": "89d945c1",
   "metadata": {},
   "outputs": [],
   "source": []
  }
 ],
 "metadata": {
  "kernelspec": {
   "display_name": "Python 3",
   "language": "python",
   "name": "python3"
  },
  "language_info": {
   "codemirror_mode": {
    "name": "ipython",
    "version": 3
   },
   "file_extension": ".py",
   "mimetype": "text/x-python",
   "name": "python",
   "nbconvert_exporter": "python",
   "pygments_lexer": "ipython3",
   "version": "3.8.8"
  }
 },
 "nbformat": 4,
 "nbformat_minor": 5
}
